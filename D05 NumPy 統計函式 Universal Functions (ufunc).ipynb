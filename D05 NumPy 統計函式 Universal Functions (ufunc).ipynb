{
 "cells": [
  {
   "cell_type": "code",
   "execution_count": 1,
   "metadata": {},
   "outputs": [],
   "source": [
    "import numpy as np"
   ]
  },
  {
   "cell_type": "code",
   "execution_count": 2,
   "metadata": {},
   "outputs": [],
   "source": [
    "english_score = np.array([55,89,76,65,48,70])\n",
    "math_score = np.array([60,85,60,68,np.nan,60])\n",
    "chinese_score = np.array([65,90,82,72,66,77])"
   ]
  },
  {
   "cell_type": "markdown",
   "metadata": {},
   "source": [
    "#1. 請計算各科成績平均、最大值、最小值、標準差，其中數學缺一筆資料可忽略?"
   ]
  },
  {
   "cell_type": "code",
   "execution_count": 5,
   "metadata": {},
   "outputs": [],
   "source": [
    "score=np.array([[55,89,76,65,48,70],[60,85,60,68,np.nan,60],[65,90,82,72,66,77]])"
   ]
  },
  {
   "cell_type": "code",
   "execution_count": 20,
   "metadata": {},
   "outputs": [
    {
     "data": {
      "text/plain": [
       "array([[55., 89., 76., 65., 48., 70.],\n",
       "       [60., 85., 60., 68., nan, 60.],\n",
       "       [65., 90., 82., 72., 66., 77.]])"
      ]
     },
     "execution_count": 20,
     "metadata": {},
     "output_type": "execute_result"
    }
   ],
   "source": [
    "score"
   ]
  },
  {
   "cell_type": "code",
   "execution_count": 43,
   "metadata": {},
   "outputs": [
    {
     "data": {
      "text/plain": [
       "(67.16666666666667, 66.6, 75.33333333333333)"
      ]
     },
     "execution_count": 43,
     "metadata": {},
     "output_type": "execute_result"
    }
   ],
   "source": [
    "#各科平均\n",
    "e_mean=np.mean((english_score))\n",
    "m_mean=np.nanmean(math_score)\n",
    "c_mean=np.mean(chinese_score)\n",
    "\n",
    "(e_mean,m_mean,c_mean)"
   ]
  },
  {
   "cell_type": "code",
   "execution_count": 46,
   "metadata": {},
   "outputs": [
    {
     "data": {
      "text/plain": [
       "(89, 85.0, 90)"
      ]
     },
     "execution_count": 46,
     "metadata": {},
     "output_type": "execute_result"
    }
   ],
   "source": [
    "#各科最大值\n",
    "e_max=np.nanmax([55,89,76,65,48,70])\n",
    "m_max=np.nanmax([60,85,60,68,np.nan,60])\n",
    "c_max=np.nanmax([65,90,82,72,66,77])\n",
    "(e_max,m_max,c_max)"
   ]
  },
  {
   "cell_type": "code",
   "execution_count": 50,
   "metadata": {},
   "outputs": [
    {
     "data": {
      "text/plain": [
       "(48, 60.0, 65)"
      ]
     },
     "execution_count": 50,
     "metadata": {},
     "output_type": "execute_result"
    }
   ],
   "source": [
    "#各科最小值\n",
    "e_min=np.nanmin([55,89,76,65,48,70])\n",
    "m_min=np.nanmin([60,85,60,68,np.nan,60])\n",
    "c_min=np.nanmin([65,90,82,72,66,77])\n",
    "(e_min,m_min,c_min)"
   ]
  },
  {
   "cell_type": "code",
   "execution_count": 51,
   "metadata": {},
   "outputs": [
    {
     "data": {
      "text/plain": [
       "(13.433995020924426, 9.707728879609279, 8.825468196582484)"
      ]
     },
     "execution_count": 51,
     "metadata": {},
     "output_type": "execute_result"
    }
   ],
   "source": [
    "#各科標準差\n",
    "e_std=np.nanstd([55,89,76,65,48,70])\n",
    "m_std=np.nanstd([60,85,60,68,np.nan,60])\n",
    "c_std=np.nanstd([65,90,82,72,66,77])\n",
    "(e_std,m_std,c_std)"
   ]
  },
  {
   "cell_type": "markdown",
   "metadata": {},
   "source": [
    "#2. 第五位同學補考數學後成績為55，請計算補考後數學成績平均、最大值、最小值、標準差?"
   ]
  },
  {
   "cell_type": "code",
   "execution_count": 53,
   "metadata": {},
   "outputs": [],
   "source": [
    "m = np.array([60,85,60,68,55,60])"
   ]
  },
  {
   "cell_type": "code",
   "execution_count": 54,
   "metadata": {},
   "outputs": [
    {
     "data": {
      "text/plain": [
       "(64.66666666666667, 85, 55, 9.860132971832694)"
      ]
     },
     "execution_count": 54,
     "metadata": {},
     "output_type": "execute_result"
    }
   ],
   "source": [
    "mean=np.mean(m)\n",
    "max=np.nanmax(m)\n",
    "min=np.nanmin(m)\n",
    "std=np.nanstd(m)\n",
    "(mean,max,min,std)"
   ]
  },
  {
   "cell_type": "markdown",
   "metadata": {},
   "source": [
    "#3. 用補考後資料找出與國文成績相關係數最高的學科?"
   ]
  },
  {
   "cell_type": "code",
   "execution_count": 60,
   "metadata": {},
   "outputs": [
    {
     "data": {
      "text/plain": [
       "(array([[1.        , 0.97792828],\n",
       "        [0.97792828, 1.        ]]),\n",
       " array([[ 1., nan],\n",
       "        [nan, nan]]))"
      ]
     },
     "execution_count": 60,
     "metadata": {},
     "output_type": "execute_result"
    }
   ],
   "source": [
    "e_corr=np.corrcoef([65,90,82,72,66,77],[55,89,76,65,48,70])\n",
    "m_corr=np.corrcoef([65,90,82,72,66,77],[60,85,60,68,np.nan,60])\n",
    "(e_corr,m_corr)"
   ]
  },
  {
   "cell_type": "code",
   "execution_count": null,
   "metadata": {},
   "outputs": [],
   "source": []
  }
 ],
 "metadata": {
  "kernelspec": {
   "display_name": "Python 3",
   "language": "python",
   "name": "python3"
  },
  "language_info": {
   "codemirror_mode": {
    "name": "ipython",
    "version": 3
   },
   "file_extension": ".py",
   "mimetype": "text/x-python",
   "name": "python",
   "nbconvert_exporter": "python",
   "pygments_lexer": "ipython3",
   "version": "3.8.5"
  }
 },
 "nbformat": 4,
 "nbformat_minor": 4
}
